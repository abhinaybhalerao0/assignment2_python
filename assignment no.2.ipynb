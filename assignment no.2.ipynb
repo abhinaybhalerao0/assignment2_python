{
 "cells": [
  {
   "cell_type": "code",
   "execution_count": 5,
   "id": "6de3d8c5-2078-4056-96f5-98d89e99fd37",
   "metadata": {},
   "outputs": [
    {
     "name": "stdin",
     "output_type": "stream",
     "text": [
      "enter the value in km 2500\n"
     ]
    },
    {
     "name": "stdout",
     "output_type": "stream",
     "text": [
      "2500.00 kilometers is equal to 1553.43 miles\n"
     ]
    },
    {
     "data": {
      "text/plain": [
       "\u001b[0;31mType:\u001b[0m        float\n",
       "\u001b[0;31mString form:\u001b[0m 1553.4279805933347\n",
       "\u001b[0;31mDocstring:\u001b[0m   Convert a string or number to a floating point number, if possible.\n"
      ]
     },
     "metadata": {},
     "output_type": "display_data"
    }
   ],
   "source": [
    "1. Write a Python program to convert kilometers to miles?\n",
    "def km_to_miles(km):\n",
    "    miles = km/1.609344\n",
    "    return miles\n",
    "\n",
    "km=float(input(\"enter the value in km\"))\n",
    "\n",
    "miles = km_to_miles(km)\n",
    "\n",
    "print(\"{:.2f} kilometers is equal to {:.2f} miles\".format(km, miles))\n",
    "\n",
    "###note----\n",
    "#The .2f inside the curly braces is a formatting option that specifies that the value should be formatted as a floating-point number with 2 decimal places.\n",
    "\n",
    "#The format() method is used to replace the placeholders with the actual values of km and miles.\n",
    "#The values are passed to the format() method as arguments in the order in which the placeholders appear in the string.\n"
   ]
  },
  {
   "cell_type": "code",
   "execution_count": 9,
   "id": "1f11c237-6cdc-4293-84df-16c356733104",
   "metadata": {},
   "outputs": [
    {
     "name": "stdout",
     "output_type": "stream",
     "text": [
      "Object `Fahrenheit` not found.\n"
     ]
    },
    {
     "name": "stdin",
     "output_type": "stream",
     "text": [
      "enter the value in celsius 50\n"
     ]
    },
    {
     "name": "stdout",
     "output_type": "stream",
     "text": [
      "50.00 celsisus is equal to 122.000000 fahrenheit\n"
     ]
    }
   ],
   "source": [
    "2.Write a Python program to convert Celsius to Fahrenheit?\n",
    "def cel_to_fehr(celsius):\n",
    "    fahrenheit = (celsius * 1.8) + 32\n",
    "    return fahrenheit\n",
    "\n",
    "celsius = float(input(\"enter the value in celsius\"))\n",
    "\n",
    "fahrenheit = cel_to_fehr(celsius)\n",
    "                       \n",
    "                       \n",
    "print(\"{:.2f} celsisus is equal to {:2f} fahrenheit\".format(celsius, fahrenheit))                       \n",
    "                    "
   ]
  },
  {
   "cell_type": "code",
   "execution_count": 2,
   "id": "98592524-b023-4d4f-a574-2daa3025ef4d",
   "metadata": {},
   "outputs": [
    {
     "name": "stdin",
     "output_type": "stream",
     "text": [
      "enter the year:  2015\n",
      "enter the month:  11\n"
     ]
    },
    {
     "name": "stdout",
     "output_type": "stream",
     "text": [
      "   November 2015\n",
      "Mo Tu We Th Fr Sa Su\n",
      "                   1\n",
      " 2  3  4  5  6  7  8\n",
      " 9 10 11 12 13 14 15\n",
      "16 17 18 19 20 21 22\n",
      "23 24 25 26 27 28 29\n",
      "30\n",
      "\n"
     ]
    }
   ],
   "source": [
    "#3. Write a Python program to display calendar?\n",
    "import calendar\n",
    "\n",
    "year = int(input(\"enter the year: \"))\n",
    "month = int(input(\"enter the month: \"))\n",
    "\n",
    "print(calendar.month(year, month))            \n"
   ]
  },
  {
   "cell_type": "code",
   "execution_count": 5,
   "id": "c7ca23ed-b208-4414-96d7-7ae09e22faad",
   "metadata": {},
   "outputs": [],
   "source": [
    "#4. Write a Python program to solve quadratic equation?\n",
    "import math\n",
    "\n",
    "\n",
    "    \n"
   ]
  },
  {
   "cell_type": "code",
   "execution_count": 8,
   "id": "98a5860c-c3d2-42d8-9a7c-c36026101c96",
   "metadata": {},
   "outputs": [
    {
     "name": "stdin",
     "output_type": "stream",
     "text": [
      "enter the coefficient of x^2:  25\n",
      "enter the coefficient of x:  100\n",
      "enter the constant term:  200\n"
     ]
    },
    {
     "name": "stdout",
     "output_type": "stream",
     "text": [
      "the root are complex and conjugate to each other.\n",
      "root 1 = -2.0 + 2.0 i\n",
      "root 2 = -2.0 - 2.0 i\n"
     ]
    }
   ],
   "source": [
    "a = float(input(\"enter the coefficient of x^2: \"))\n",
    "b = float(input(\"enter the coefficient of x: \"))          \n",
    "c = float(input(\"enter the constant term: \"))\n",
    "\n",
    "\n",
    "discriminant = b**2 - 4*a*c\n",
    "    \n",
    "if discriminant > 0:\n",
    "    root1 =(-b + math.sqrt(discriminant))/(2*a)\n",
    "    root2 =(-b - math.sqrt(discriminant))/(2*a)\n",
    "    \n",
    "    print(\"the roots are real and distinct.\")\n",
    "    print(\"root 1 =\", root1)\n",
    "    print(\"root 2 =\", root2)\n",
    "elif discriminant == 0:\n",
    "    root = -b/(2*a)\n",
    "    print(\"roots are real and equal.\")\n",
    "    print(\"root =\",root)\n",
    "else:\n",
    "    realpart = -b/(2*a)\n",
    "    imaginarypart= math.sqrt(-discriminant)/(2*a)\n",
    "    print(\"the root are complex and conjugate to each other.\")\n",
    "    print(\"root 1 =\", realpart, \"+\", imaginarypart, \"i\")\n",
    "    print(\"root 2 =\", realpart, \"-\", imaginarypart, \"i\")"
   ]
  },
  {
   "cell_type": "code",
   "execution_count": 9,
   "id": "df391d6a-43a0-49f4-bbd8-95100834f00c",
   "metadata": {},
   "outputs": [
    {
     "name": "stdin",
     "output_type": "stream",
     "text": [
      "enter the first no.:  25\n",
      "enter the second no.:  100\n"
     ]
    },
    {
     "name": "stdout",
     "output_type": "stream",
     "text": [
      "after swaping:\n",
      "first no. =  100\n",
      "second no. =  25\n"
     ]
    }
   ],
   "source": [
    "#5. Write a Python program to swap two variables without temp variable?\n",
    "a=int(input(\"enter the first no.: \"))\n",
    "b=int(input(\"enter the second no.: \"))\n",
    "\n",
    "#swapping\n",
    "a,b=b,a\n",
    "\n",
    "print(\"after swaping:\")\n",
    "print(\"first no. = \", a)\n",
    "print(\"second no. = \", b)\n"
   ]
  },
  {
   "cell_type": "code",
   "execution_count": null,
   "id": "668f86ef-494f-4e23-9b6c-5d0ee30b7caa",
   "metadata": {},
   "outputs": [],
   "source": []
  }
 ],
 "metadata": {
  "kernelspec": {
   "display_name": "Python 3 (ipykernel)",
   "language": "python",
   "name": "python3"
  },
  "language_info": {
   "codemirror_mode": {
    "name": "ipython",
    "version": 3
   },
   "file_extension": ".py",
   "mimetype": "text/x-python",
   "name": "python",
   "nbconvert_exporter": "python",
   "pygments_lexer": "ipython3",
   "version": "3.10.6"
  }
 },
 "nbformat": 4,
 "nbformat_minor": 5
}
